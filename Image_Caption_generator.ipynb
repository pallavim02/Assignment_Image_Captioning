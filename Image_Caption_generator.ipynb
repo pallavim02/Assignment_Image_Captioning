{
  "nbformat": 4,
  "nbformat_minor": 0,
  "metadata": {
    "colab": {
      "provenance": []
    },
    "kernelspec": {
      "name": "python3",
      "display_name": "Python 3"
    },
    "language_info": {
      "name": "python"
    }
  },
  "cells": [
    {
      "cell_type": "code",
      "execution_count": 8,
      "metadata": {
        "colab": {
          "base_uri": "https://localhost:8080/",
          "height": 235
        },
        "id": "QMBnjnBJOBiO",
        "outputId": "ecc6820e-0c94-4eeb-f1db-68e3deff7952"
      },
      "outputs": [
        {
          "output_type": "error",
          "ename": "NameError",
          "evalue": "ignored",
          "traceback": [
            "\u001b[0;31m---------------------------------------------------------------------------\u001b[0m",
            "\u001b[0;31mNameError\u001b[0m                                 Traceback (most recent call last)",
            "\u001b[0;32m<ipython-input-8-a2f010fd137f>\u001b[0m in \u001b[0;36m<cell line: 22>\u001b[0;34m()\u001b[0m\n\u001b[1;32m     20\u001b[0m \u001b[0;31m# we will load word to index and index to word mappig file\u001b[0m\u001b[0;34m\u001b[0m\u001b[0;34m\u001b[0m\u001b[0m\n\u001b[1;32m     21\u001b[0m \u001b[0;34m\u001b[0m\u001b[0m\n\u001b[0;32m---> 22\u001b[0;31m \u001b[0;32mwith\u001b[0m \u001b[0mopen\u001b[0m\u001b[0;34m(\u001b[0m\u001b[0;34m'/content/wordtoix.pkl'\u001b[0m\u001b[0;34m,\u001b[0m\u001b[0mrb\u001b[0m\u001b[0;34m)\u001b[0m \u001b[0;32mas\u001b[0m \u001b[0mf\u001b[0m\u001b[0;34m:\u001b[0m\u001b[0;34m\u001b[0m\u001b[0;34m\u001b[0m\u001b[0m\n\u001b[0m\u001b[1;32m     23\u001b[0m   \u001b[0mword_to_index\u001b[0m\u001b[0;34m=\u001b[0m\u001b[0mpickle\u001b[0m\u001b[0;34m.\u001b[0m\u001b[0mload\u001b[0m\u001b[0;34m(\u001b[0m\u001b[0mf\u001b[0m\u001b[0;34m)\u001b[0m\u001b[0;34m\u001b[0m\u001b[0;34m\u001b[0m\u001b[0m\n\u001b[1;32m     24\u001b[0m \u001b[0;32mwith\u001b[0m \u001b[0mopen\u001b[0m\u001b[0;34m(\u001b[0m\u001b[0;34m\"/content/ixtoword.pkl\"\u001b[0m\u001b[0;34m,\u001b[0m\u001b[0mrb\u001b[0m\u001b[0;34m)\u001b[0m \u001b[0;32mas\u001b[0m \u001b[0mf\u001b[0m\u001b[0;34m:\u001b[0m\u001b[0;34m\u001b[0m\u001b[0;34m\u001b[0m\u001b[0m\n",
            "\u001b[0;31mNameError\u001b[0m: name 'rb' is not defined"
          ]
        }
      ],
      "source": [
        "# lets import all the required libraries\n",
        "\n",
        "import numpy as np\n",
        "\n",
        "import tensorflow as tf\n",
        "from tensorflow.keras.applications import InceptionV3\n",
        "from tensorflow.keras.preprocessing.image import img_to_array,load_img\n",
        "from tensorflow.keras.preprocessing.sequence import pad_sequences\n",
        "from tensorflow.keras.models import Model, load_model\n",
        "import pickle\n",
        "\n",
        "# we load the pre-trained model from github\n",
        "# lets write the commands\n",
        "\n",
        "cnn_model = InceptionV3(weights='/content/inception_v3_weights_tf_dim_ordering_tf_kernels.h5')\n",
        "cnn_model = Model(cnn_model.input, cnn_model.layers[-2].output)\n",
        "\n",
        "c_model = load_model(\"/content/image-caption-30k-6.h5\")\n",
        "\n",
        "# we will load word to index and index to word mappig file\n",
        "\n",
        "with open('/content/wordtoix.pkl',rb) as f:\n",
        "  word_to_index=pickle.load(f)\n",
        "with open(\"/content/ixtoword.pkl\",rb) as f:\n",
        "  index_to_word=pickle.load(f)\n",
        "\n",
        "\n",
        "# lets write a function that helps us to generate the caption \n",
        "\n",
        "\n",
        "def caps(image_path,num_cap):\n",
        "  imag=load_img(\"/content/Image1.png\")\n",
        "  imag = img_to_array(imag)\n",
        "  imag = np.expand_dims(imag,axis=0)\n",
        "  imag = tf.keras.applications.inception_resnet_v3.preprocessing_input(imag)\n",
        "\n",
        "  features=cnn_model.predict(imag)\n",
        "  features = np.reshape(features,(1,-1))\n",
        "  max_length =80 \n",
        "\n",
        "  captions = \"Begin\"\n",
        "  for _ in range(max_length):\n",
        "    sequence=[word_to_index[word] for word in captions]\n",
        "    maxlen=max_length\n",
        "    pred= c_model.predict([features,sequence], maxlen=max_length)\n",
        "    \n",
        "    pred = np.argmax(pred)\n",
        "    word =index_to_word[pred]\n",
        "    captions.append(word)\n",
        "    if word=='end':\n",
        "      break\n",
        "\n",
        "    generated_caption = ' '.join(captions[1:-1])\n",
        "    return generated_caption\n",
        "\n",
        "\n",
        "    #load the sample image\n",
        "    image_path=''\n",
        "    num_captions=5\n",
        "    captions=[]\n",
        "\n",
        "\n",
        "    for _ in range(num_captions):\n",
        "      captions= generated_caption(image_path,num_captions)\n",
        "      captions.append(captions)\n",
        "\n",
        "print(captions)"
      ]
    },
    {
      "cell_type": "code",
      "source": [],
      "metadata": {
        "id": "1YGKK019Ocyo"
      },
      "execution_count": null,
      "outputs": []
    }
  ]
}